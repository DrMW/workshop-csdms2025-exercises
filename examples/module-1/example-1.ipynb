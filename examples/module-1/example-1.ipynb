{
 "cells": [
  {
   "cell_type": "markdown",
   "id": "b4242e02-31c7-4e0c-8a20-5ee7a6ec84e7",
   "metadata": {},
   "source": [
    "# Module 1: Working in JupyterHub\n",
    "\n",
    "Let's look at some data.\n",
    "\n",
    "* **Read this notebook and execute each cell (`SHIFT+ENTER`) as you go!**"
   ]
  },
  {
   "cell_type": "markdown",
   "id": "085f7cb6-326e-402d-ac18-df6ee95d65ae",
   "metadata": {},
   "source": [
    "## Viewing a data file in a few different ways\n",
    "\n",
    "We're going to start by exploring a very simple geospatial 'dataset' (consisting of just _one_ point for now!), in a variety of ways. There's a file called  `seec.geojson` in the same folder as this notebook, which you can view in the file browser to the left. That file contains data encoded in the GeoJSON format. In JupyterLab, any GeoJSON file can be viewed from the file browser by double-clicking on it. \n",
    "\n",
    "We can also produce an in-notebook link by using the `FileLink` function, which makes it convenient to have links akin to the file browser but for any file we want to make easily accessible to the user in a Notebook. **Run the cell below**, and you can then click on the link that is produced as a result, which will open the file in a new JupyterLab tab:"
   ]
  },
  {
   "cell_type": "code",
   "execution_count": 1,
   "id": "3c367061-0634-4787-bfad-a828e00d9ad3",
   "metadata": {},
   "outputs": [
    {
     "data": {
      "text/html": [
       "<a href='seec.geojson' target='_blank'>seec.geojson</a><br>"
      ],
      "text/plain": [
       "/home/jovyan/workshop-csdms2025-exercises/examples/module-1/seec.geojson"
      ]
     },
     "execution_count": 1,
     "metadata": {},
     "output_type": "execute_result"
    }
   ],
   "source": [
    "gjson_file = \"seec.geojson\"\n",
    "\n",
    "from IPython.display import FileLink\n",
    "FileLink(gjson_file)"
   ]
  },
  {
   "cell_type": "markdown",
   "id": "95d4ec4f-b6ce-4b10-8d54-8a1bf5cfa43b",
   "metadata": {},
   "source": [
    "Jupyter (specifically the `IPython.display` library), includes tools to display a variety of objects programmatically, so the same things you can do in the interface by clicking, also work in code.\n",
    "\n",
    "Here is how you can show that same file in the notebook as a map widget:"
   ]
  },
  {
   "cell_type": "code",
   "execution_count": 2,
   "id": "3af0fd8a-99d1-4574-be64-9876aac84101",
   "metadata": {},
   "outputs": [
    {
     "data": {
      "application/geo+json": {
       "features": [
        {
         "geometry": {
          "coordinates": [
           -105.24206599999948,
           40.01007767367196
          ],
          "type": "Point"
         },
         "properties": {
          "Address": "4001 Discovery Dr., Boulder, CO",
          "Name": "Sustainability, Energy, and Environment Community (SEEC) Building"
         },
         "type": "Feature"
        }
       ],
       "type": "FeatureCollection"
      },
      "text/plain": [
       "<IPython.display.GeoJSON object>"
      ]
     },
     "metadata": {
      "application/geo+json": {
       "expanded": false,
       "root": "root"
      }
     },
     "output_type": "display_data"
    }
   ],
   "source": [
    "from IPython.display import GeoJSON\n",
    "GeoJSON(filename=gjson_file)"
   ]
  },
  {
   "cell_type": "markdown",
   "id": "40442405-fd44-4196-b48e-c615de803d92",
   "metadata": {},
   "source": [
    "## Manipulating the data with Python\n",
    "\n",
    "We've prepared a simple dataset in an open format, [GeoJSON](https://geojson.org/), which contains one point: The Sustainability, Energy, and Environment Community (SEEC) building where we are now.\n",
    "\n",
    "When loading this data, we call the variable `gdf`, short for `GeoDataFrame`, an object provided by `geopandas` for tabular geospatial data.\n",
    "\n",
    "We'll look at the raw data in tabular form, and then plot it:"
   ]
  },
  {
   "cell_type": "code",
   "execution_count": 3,
   "id": "5f7058d5-8e69-4c9b-8f93-11d1e53b13e9",
   "metadata": {},
   "outputs": [],
   "source": [
    "import geopandas\n",
    "\n",
    "gdf = geopandas.read_file(\"seec.geojson\")"
   ]
  },
  {
   "cell_type": "code",
   "execution_count": 4,
   "id": "5130665e-d337-4224-8daf-d9f662127599",
   "metadata": {},
   "outputs": [
    {
     "data": {
      "text/html": [
       "<div>\n",
       "<style scoped>\n",
       "    .dataframe tbody tr th:only-of-type {\n",
       "        vertical-align: middle;\n",
       "    }\n",
       "\n",
       "    .dataframe tbody tr th {\n",
       "        vertical-align: top;\n",
       "    }\n",
       "\n",
       "    .dataframe thead th {\n",
       "        text-align: right;\n",
       "    }\n",
       "</style>\n",
       "<table border=\"1\" class=\"dataframe\">\n",
       "  <thead>\n",
       "    <tr style=\"text-align: right;\">\n",
       "      <th></th>\n",
       "      <th>Address</th>\n",
       "      <th>Name</th>\n",
       "      <th>geometry</th>\n",
       "    </tr>\n",
       "  </thead>\n",
       "  <tbody>\n",
       "    <tr>\n",
       "      <th>0</th>\n",
       "      <td>4001 Discovery Dr., Boulder, CO</td>\n",
       "      <td>Sustainability, Energy, and Environment Commun...</td>\n",
       "      <td>POINT (-105.24207 40.01008)</td>\n",
       "    </tr>\n",
       "  </tbody>\n",
       "</table>\n",
       "</div>"
      ],
      "text/plain": [
       "                           Address  \\\n",
       "0  4001 Discovery Dr., Boulder, CO   \n",
       "\n",
       "                                                Name  \\\n",
       "0  Sustainability, Energy, and Environment Commun...   \n",
       "\n",
       "                      geometry  \n",
       "0  POINT (-105.24207 40.01008)  "
      ]
     },
     "execution_count": 4,
     "metadata": {},
     "output_type": "execute_result"
    }
   ],
   "source": [
    "gdf"
   ]
  },
  {
   "cell_type": "code",
   "execution_count": 5,
   "id": "c5070576-4dd0-4dae-ad7c-b671ed344c06",
   "metadata": {},
   "outputs": [
    {
     "data": {
      "image/png": "[encoded data removed]",
      "text/plain": [
       "<Figure size 640x480 with 1 Axes>"
      ]
     },
     "metadata": {},
     "output_type": "display_data"
    }
   ],
   "source": [
    "gdf.plot(); # the trailing `;` suppresses printed output, we just want the plot"
   ]
  },
  {
   "cell_type": "markdown",
   "id": "cb763878-07d3-402e-a068-b1ea220abaae",
   "metadata": {},
   "source": [
    "### That's not a very useful plot, is it?\n",
    "\n",
    "😉 No! We'll come back to this."
   ]
  },
  {
   "cell_type": "markdown",
   "id": "d2a80e73-155b-47fb-a144-1dffe26ea848",
   "metadata": {},
   "source": [
    "### Let's add another data point.\n",
    "\n",
    "First, we create a new GeoDataFrame, then we \"concatenate\" them together.\n",
    "\n",
    "I got the latitude and Longitude by right-clicking in Google maps."
   ]
  },
  {
   "cell_type": "code",
   "execution_count": 9,
   "id": "70550fed-2a8f-4543-9e07-f1e54ee388a6",
   "metadata": {},
   "outputs": [
    {
     "data": {
      "image/png": "[encoded data removed]",
      "text/plain": [
       "<Figure size 640x480 with 1 Axes>"
      ]
     },
     "metadata": {},
     "output_type": "display_data"
    }
   ],
   "source": [
    "from shapely import Point\n",
    "\n",
    "nsidc_gdf = geopandas.GeoDataFrame(\n",
    "    {\n",
    "        \"Address\": [\"National Snow and Ice Data Center CIRES, 449 UCB University of Colorado Boulder\"],\n",
    "        \"Name\": [\"National Snow and Ice Data Center (NSIDC)\"],\n",
    "        \"geometry\": [Point(-105.2826190559774, 39.99971211668006)],  # IMPORTANT: Longitude first!\n",
    "    },\n",
    "    crs=\"EPSG:4326\",\n",
    ")\n",
    "\n",
    "nsidc_gdf.plot();"
   ]
  },
  {
   "cell_type": "markdown",
   "id": "51217f13-d09c-4c90-816b-8272b6bf3fc6",
   "metadata": {},
   "source": [
    "### Let's combine the two points into one data file."
   ]
  },
  {
   "cell_type": "code",
   "execution_count": 10,
   "id": "1b40b40c-91b6-4d25-9060-a102b9c17df4",
   "metadata": {},
   "outputs": [
    {
     "data": {
      "image/png": "[encoded data removed]",
      "text/plain": [
       "<Figure size 640x480 with 1 Axes>"
      ]
     },
     "metadata": {},
     "output_type": "display_data"
    }
   ],
   "source": [
    "import pandas\n",
    "\n",
    "# Instead of \"mutating\" an existing dataframe, we're creating a new one:\n",
    "combined_gdf = geopandas.GeoDataFrame(pandas.concat([gdf, nsidc_gdf]))\n",
    "combined_gdf.plot();"
   ]
  },
  {
   "cell_type": "markdown",
   "id": "501f4b39-62aa-4695-bfad-b63e49acdac4",
   "metadata": {},
   "source": [
    "### That's not a very useful plot, is it?\n",
    "\n",
    "Well, we can see that these points are relatively near each-other!\n",
    "\n",
    "Again, just kidding, we clearly need more. 😉\n",
    "\n",
    "We could write a bunch of additional code to visualize it effectively, but there are easier ways. We'll look at this in Module 2."
   ]
  },
  {
   "cell_type": "markdown",
   "id": "d15857dd-b9bb-454a-b08e-227b950cf775",
   "metadata": {},
   "source": [
    "## Save the results"
   ]
  },
  {
   "cell_type": "code",
   "execution_count": 12,
   "id": "d4c6207a-32cd-49ed-810c-a5b4fb20916e",
   "metadata": {},
   "outputs": [],
   "source": [
    "combined_gdf.to_file(\"seec_and_nsidc.geojson\")"
   ]
  },
  {
   "cell_type": "markdown",
   "id": "7f87fba2-61d4-4b08-88a8-91d191aa311e",
   "metadata": {},
   "source": [
    "## Challenge: Create some data of our own\n",
    "\n",
    "* **Create a `GeoDataFrame` containing a point that is meaningful to you**:\n",
    "    * Your favorite coffee shop?\n",
    "    * The shelter where you adopted your pet?\n",
    "    * The town where you grew up?\n",
    "\n",
    "    Hint: Modify code from one of the cells above.\n",
    "\n",
    "    Hint: Right click on a location in [Google Maps](https://www.google.com/maps) to get a latitude and longitude.\n",
    "\n",
    "    Hint: Longitude first 😉"
   ]
  },
  {
   "cell_type": "code",
   "execution_count": 14,
   "id": "c3f63685-536e-4dc4-83de-74ee42faf7af",
   "metadata": {},
   "outputs": [
    {
     "data": {
      "image/png": "[encoded data removed]",
      "text/plain": [
       "<Figure size 640x480 with 1 Axes>"
      ]
     },
     "metadata": {},
     "output_type": "display_data"
    }
   ],
   "source": [
    "my_gdf = geopandas.GeoDataFrame(\n",
    "    {\n",
    "        \"Address\": [\"Drake Circus, Plymouth, Devon, PL21 0PP, UK\"],\n",
    "        \"Name\": [\"University of Plymouth\"],\n",
    "        \"geometry\": [Point(-4.13779186106219, 50.375570503333016)],  # IMPORTANT: Longitude first!\n",
    "    },\n",
    "    crs=\"EPSG:4326\",\n",
    ")\n",
    "\n",
    "nsidc_gdf.plot();"
   ]
  },
  {
   "cell_type": "markdown",
   "id": "4b4bc898-6ba3-465c-9e02-20bdf18d668b",
   "metadata": {},
   "source": [
    ":::{hint} Solution to the above\n",
    ":class: dropdown\n",
    "\n",
    "Here is a solution you can copy/paste, using the location of Fernando's office (taken from Google maps).\n",
    "\n",
    "```python\n",
    "my_gdf = geopandas.GeoDataFrame(\n",
    "    {\n",
    "        \"Address\": [\"Evans Hall, University Drive, Berkeley, CA 94720\"],\n",
    "        \"Name\": [\"Evans Hall, UC Berkeley\"],\n",
    "        \"geometry\": [Point( -122.25754047719431, 37.87381567413291)],  # IMPORTANT: Longitude first!\n",
    "    },\n",
    "    crs=\"EPSG:4326\",\n",
    ")\n",
    "```\n",
    "::: "
   ]
  },
  {
   "cell_type": "code",
   "execution_count": 15,
   "id": "429b40c5-6a0f-4711-9302-b7a415de919a",
   "metadata": {},
   "outputs": [],
   "source": [
    "# Combine all the data together\n",
    "final_gdf = geopandas.GeoDataFrame(pandas.concat([combined_gdf, my_gdf]))\n",
    "\n",
    "# Write it out to `final.geojson`.\n",
    "out_fname = \"final.geojson\"\n",
    "final_gdf.to_file(out_fname)"
   ]
  },
  {
   "cell_type": "markdown",
   "id": "ed50a3d1-2f60-435b-940a-96b4155c1758",
   "metadata": {},
   "source": [
    "And now, we can look at the complete map:"
   ]
  },
  {
   "cell_type": "code",
   "execution_count": 16,
   "id": "16aae7ac-b2e3-4189-946f-0d295062563e",
   "metadata": {},
   "outputs": [
    {
     "data": {
      "application/geo+json": {
       "crs": {
        "properties": {
         "name": "urn:ogc:def:crs:OGC:1.3:CRS84"
        },
        "type": "name"
       },
       "features": [
        {
         "geometry": {
          "coordinates": [
           -105.24206599999948,
           40.01007767367196
          ],
          "type": "Point"
         },
         "properties": {
          "Address": "4001 Discovery Dr., Boulder, CO",
          "Name": "Sustainability, Energy, and Environment Community (SEEC) Building"
         },
         "type": "Feature"
        },
        {
         "geometry": {
          "coordinates": [
           -105.2826190559774,
           39.99971211668006
          ],
          "type": "Point"
         },
         "properties": {
          "Address": "National Snow and Ice Data Center CIRES, 449 UCB University of Colorado Boulder",
          "Name": "National Snow and Ice Data Center (NSIDC)"
         },
         "type": "Feature"
        },
        {
         "geometry": {
          "coordinates": [
           -4.13779186106219,
           50.375570503333016
          ],
          "type": "Point"
         },
         "properties": {
          "Address": "Drake Circus, Plymouth, Devon, PL21 0PP, UK",
          "Name": "University of Plymouth"
         },
         "type": "Feature"
        }
       ],
       "name": "final",
       "type": "FeatureCollection"
      },
      "text/plain": [
       "<IPython.display.GeoJSON object>"
      ]
     },
     "metadata": {
      "application/geo+json": {
       "expanded": false,
       "root": "root"
      }
     },
     "output_type": "display_data"
    }
   ],
   "source": [
    "GeoJSON(filename=out_fname)"
   ]
  },
  {
   "cell_type": "markdown",
   "id": "0effeba0-1bf9-4cf1-8294-753db36e7e51",
   "metadata": {},
   "source": [
    "## ✅ Return to the workshop website instructions\n",
    "\n",
    "Great job completing this notebook! Visit the workshop website by clicking the link below and continue following the instructions where you left off:\n",
    "\n",
    "<https://csdms2025.workshops.geojupyter.org/modules/working-in-jupyterhub/exercise>"
   ]
  }
 ],
 "metadata": {
  "kernelspec": {
   "display_name": "Python 3 (ipykernel)",
   "language": "python",
   "name": "python3"
  },
  "language_info": {
   "codemirror_mode": {
    "name": "ipython",
    "version": 3
   },
   "file_extension": ".py",
   "mimetype": "text/x-python",
   "name": "python",
   "nbconvert_exporter": "python",
   "pygments_lexer": "ipython3",
   "version": "3.13.3"
  }
 },
 "nbformat": 4,
 "nbformat_minor": 5
}
